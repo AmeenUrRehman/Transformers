{
 "cells": [
  {
   "cell_type": "code",
   "execution_count": 38,
   "id": "1943c52a",
   "metadata": {},
   "outputs": [],
   "source": [
    "import cv2\n",
    "import os\n",
    "import numpy as np\n",
    "from PIL import Image"
   ]
  },
  {
   "cell_type": "code",
   "execution_count": 39,
   "id": "de04a74f",
   "metadata": {},
   "outputs": [],
   "source": [
    "image_directory = \"datasets/\""
   ]
  },
  {
   "cell_type": "code",
   "execution_count": 40,
   "id": "a5f57c46",
   "metadata": {},
   "outputs": [],
   "source": [
    "no_tumor_images = os.listdir(image_directory + \"no/\")\n",
    "yes_tumor_images = os.listdir(image_directory + \"yes/\")"
   ]
  },
  {
   "cell_type": "code",
   "execution_count": 59,
   "id": "00a7011d",
   "metadata": {},
   "outputs": [],
   "source": [
    "dataset = []\n",
    "label = []"
   ]
  },
  {
   "cell_type": "code",
   "execution_count": 61,
   "id": "1ce2ef84",
   "metadata": {},
   "outputs": [],
   "source": [
    "for i, image_name in enumerate(no_tumor_images):\n",
    "    if(image_name.split('.')[1] == 'jpg'):\n",
    "        image = cv2.imread(image_directory + \"no/\" + image_name)\n",
    "        image = Image.fromarray(image, 'RGB')\n",
    "        image = image.resize((28,28))\n",
    "        dataset.append(np.array(image))\n",
    "        label.append(0)\n",
    "        \n",
    "for i, image_name in enumerate(yes_tumor_images):\n",
    "    if(image_name.split('.')[1] == 'jpg'):\n",
    "        image = cv2.imread(image_directory + \"yes/\" + image_name)\n",
    "        image = Image.fromarray(image, 'RGB')\n",
    "        image = image.resize((28,28))\n",
    "        dataset.append(np.array(image))\n",
    "        label.append(1)"
   ]
  },
  {
   "cell_type": "code",
   "execution_count": 62,
   "id": "5b609b4d",
   "metadata": {},
   "outputs": [
    {
     "name": "stdout",
     "output_type": "stream",
     "text": [
      "2993\n",
      "2993\n"
     ]
    }
   ],
   "source": [
    "print(len(dataset))\n",
    "print(len(label))"
   ]
  },
  {
   "cell_type": "code",
   "execution_count": 63,
   "id": "a3c9a803",
   "metadata": {},
   "outputs": [],
   "source": [
    "dataset = np.array(dataset)\n",
    "label = np.array(label)"
   ]
  },
  {
   "cell_type": "code",
   "execution_count": 64,
   "id": "ad18af90",
   "metadata": {},
   "outputs": [],
   "source": [
    "from sklearn.model_selection import train_test_split"
   ]
  },
  {
   "cell_type": "code",
   "execution_count": 65,
   "id": "484460b1",
   "metadata": {},
   "outputs": [],
   "source": [
    "X_train, X_test, y_train, y_test = train_test_split(dataset, label, test_size = 0.3, random_state= 0)"
   ]
  },
  {
   "cell_type": "code",
   "execution_count": 66,
   "id": "25fb77ac",
   "metadata": {},
   "outputs": [
    {
     "name": "stdout",
     "output_type": "stream",
     "text": [
      "(28, 28, 3)\n"
     ]
    }
   ],
   "source": [
    "print(X_train[0].shape)"
   ]
  },
  {
   "cell_type": "code",
   "execution_count": 93,
   "id": "69369668",
   "metadata": {},
   "outputs": [],
   "source": [
    "import tensorflow as  tf\n",
    "from tensorflow.keras.models import Sequential\n",
    "from tensorflow.keras.layers import Dense, Dropout, LSTM\n",
    "from tensorflow.keras import layers, models\n",
    "from keras.datasets import mnist\n",
    "import keras\n",
    "from matplotlib import pyplot as plt\n",
    "from keras.utils import normalize\n",
    "from keras.layers import Conv2D, MaxPooling2D, Flatten, Dense"
   ]
  },
  {
   "cell_type": "code",
   "execution_count": 94,
   "id": "59aedd93",
   "metadata": {},
   "outputs": [],
   "source": [
    "from keras.backend import exp\n",
    "\n",
    "def newone4(x):\n",
    "  return (1-tf.math.exp(-tf.math.exp(-x/2)))*tf.math.exp(-tf.math.exp(-x))+tf.math.exp(-tf.math.exp(-x/2))"
   ]
  },
  {
   "cell_type": "code",
   "execution_count": 95,
   "id": "38952c52",
   "metadata": {},
   "outputs": [],
   "source": [
    "X_train = np.array(X_train)\n",
    "X_test = np.array(X_test)\n",
    "y_train = np.array(y_train)\n",
    "y_test = np.array(y_test)"
   ]
  },
  {
   "cell_type": "code",
   "execution_count": 96,
   "id": "27812154",
   "metadata": {},
   "outputs": [
    {
     "name": "stdout",
     "output_type": "stream",
     "text": [
      "(2095, 28, 28, 3)\n",
      "(898, 28, 28, 3)\n",
      "(2095,)\n",
      "(898,)\n"
     ]
    }
   ],
   "source": [
    "print(X_train.shape)\n",
    "print(X_test.shape)\n",
    "print(y_train.shape)\n",
    "print(y_test.shape)"
   ]
  },
  {
   "cell_type": "code",
   "execution_count": 97,
   "id": "54927ee2",
   "metadata": {},
   "outputs": [],
   "source": [
    "X_train = normalize(X_train, axis=1)\n",
    "X_test = normalize(X_test, axis = 1)"
   ]
  },
  {
   "cell_type": "code",
   "execution_count": 98,
   "id": "5595f282",
   "metadata": {},
   "outputs": [
    {
     "name": "stdout",
     "output_type": "stream",
     "text": [
      "(2095, 28, 28, 3)\n",
      "(898, 28, 28, 3)\n",
      "(2095,)\n",
      "(898,)\n"
     ]
    }
   ],
   "source": [
    "print(X_train.shape)\n",
    "print(X_test.shape)\n",
    "print(y_train.shape)\n",
    "print(y_test.shape)"
   ]
  },
  {
   "cell_type": "code",
   "execution_count": 101,
   "id": "b58e0819",
   "metadata": {},
   "outputs": [],
   "source": [
    "model = models.Sequential()\n",
    "# Use a CNN to process the image data before the LSTM\n",
    "model.add(layers.Conv2D(32, (3, 3), activation='relu', input_shape=(28, 28, 3)))\n",
    "model.add(layers.MaxPooling2D((2, 2)))\n",
    "# Instead of Flatten, reshape the output of the CNN\n",
    "model.add(layers.Reshape((13, 13 * 32)))  # Adjust the shape based on CNN output shape\n",
    "model.add(layers.LSTM(128, activation='tanh', recurrent_activation=newone4, input_shape=(28,28,3)))\n",
    "model.add(layers.Dense(10, activation='softmax'))\n",
    "opt = tf.keras.optimizers.Adam(learning_rate=0.001)\n",
    "model.compile(loss='sparse_categorical_crossentropy', optimizer=opt,\n",
    "             metrics=['accuracy'])"
   ]
  },
  {
   "cell_type": "code",
   "execution_count": 102,
   "id": "b28c29d8",
   "metadata": {},
   "outputs": [
    {
     "name": "stdout",
     "output_type": "stream",
     "text": [
      "(2095, 28, 28, 3)\n",
      "(898, 28, 28, 3)\n",
      "(2095,)\n",
      "(898,)\n"
     ]
    }
   ],
   "source": [
    "print(X_train.shape)\n",
    "print(X_test.shape)\n",
    "print(y_train.shape)\n",
    "print(y_test.shape)"
   ]
  },
  {
   "cell_type": "code",
   "execution_count": 103,
   "id": "4abc8716",
   "metadata": {},
   "outputs": [
    {
     "name": "stdout",
     "output_type": "stream",
     "text": [
      "Epoch 1/30\n",
      "66/66 [==============================] - 13s 92ms/step - loss: 0.6969 - accuracy: 0.6282 - val_loss: 0.5425 - val_accuracy: 0.7361\n",
      "Epoch 2/30\n",
      "66/66 [==============================] - 5s 69ms/step - loss: 0.5607 - accuracy: 0.7165 - val_loss: 0.5028 - val_accuracy: 0.7305\n",
      "Epoch 3/30\n",
      "66/66 [==============================] - 4s 67ms/step - loss: 0.5145 - accuracy: 0.7513 - val_loss: 0.5094 - val_accuracy: 0.7405\n",
      "Epoch 4/30\n",
      "66/66 [==============================] - 5s 68ms/step - loss: 0.4988 - accuracy: 0.7671 - val_loss: 0.4521 - val_accuracy: 0.7817\n",
      "Epoch 5/30\n",
      "66/66 [==============================] - 4s 67ms/step - loss: 0.4489 - accuracy: 0.8005 - val_loss: 0.4246 - val_accuracy: 0.8040\n",
      "Epoch 6/30\n",
      "66/66 [==============================] - 4s 66ms/step - loss: 0.4484 - accuracy: 0.7895 - val_loss: 0.4369 - val_accuracy: 0.8207\n",
      "Epoch 7/30\n",
      "66/66 [==============================] - 5s 69ms/step - loss: 0.4038 - accuracy: 0.8210 - val_loss: 0.4588 - val_accuracy: 0.8085\n",
      "Epoch 8/30\n",
      "66/66 [==============================] - 4s 66ms/step - loss: 0.3679 - accuracy: 0.8396 - val_loss: 0.3565 - val_accuracy: 0.8441\n",
      "Epoch 9/30\n",
      "66/66 [==============================] - 5s 69ms/step - loss: 0.3552 - accuracy: 0.8487 - val_loss: 0.3510 - val_accuracy: 0.8441\n",
      "Epoch 10/30\n",
      "66/66 [==============================] - 4s 68ms/step - loss: 0.3503 - accuracy: 0.8506 - val_loss: 0.3275 - val_accuracy: 0.8597\n",
      "Epoch 11/30\n",
      "66/66 [==============================] - 5s 69ms/step - loss: 0.2677 - accuracy: 0.8940 - val_loss: 0.3494 - val_accuracy: 0.8408\n",
      "Epoch 12/30\n",
      "66/66 [==============================] - 4s 68ms/step - loss: 0.2496 - accuracy: 0.8964 - val_loss: 0.2581 - val_accuracy: 0.8842\n",
      "Epoch 13/30\n",
      "66/66 [==============================] - 5s 71ms/step - loss: 0.2170 - accuracy: 0.9122 - val_loss: 0.2168 - val_accuracy: 0.9076\n",
      "Epoch 14/30\n",
      "66/66 [==============================] - 5s 77ms/step - loss: 0.1825 - accuracy: 0.9322 - val_loss: 0.2032 - val_accuracy: 0.9187\n",
      "Epoch 15/30\n",
      "66/66 [==============================] - 4s 65ms/step - loss: 0.1686 - accuracy: 0.9379 - val_loss: 0.2832 - val_accuracy: 0.8786\n",
      "Epoch 16/30\n",
      "66/66 [==============================] - 5s 73ms/step - loss: 0.1423 - accuracy: 0.9475 - val_loss: 0.1341 - val_accuracy: 0.9465\n",
      "Epoch 17/30\n",
      "66/66 [==============================] - 4s 67ms/step - loss: 0.1249 - accuracy: 0.9523 - val_loss: 0.2346 - val_accuracy: 0.9076\n",
      "Epoch 18/30\n",
      "66/66 [==============================] - 4s 65ms/step - loss: 0.0972 - accuracy: 0.9709 - val_loss: 0.1234 - val_accuracy: 0.9521\n",
      "Epoch 19/30\n",
      "66/66 [==============================] - 4s 65ms/step - loss: 0.0736 - accuracy: 0.9800 - val_loss: 0.1976 - val_accuracy: 0.9343\n",
      "Epoch 20/30\n",
      "66/66 [==============================] - 4s 67ms/step - loss: 0.0745 - accuracy: 0.9766 - val_loss: 0.1758 - val_accuracy: 0.9399\n",
      "Epoch 21/30\n",
      "66/66 [==============================] - 5s 73ms/step - loss: 0.0640 - accuracy: 0.9776 - val_loss: 0.1035 - val_accuracy: 0.9722\n",
      "Epoch 22/30\n",
      "66/66 [==============================] - 4s 68ms/step - loss: 0.0832 - accuracy: 0.9723 - val_loss: 0.1149 - val_accuracy: 0.9677\n",
      "Epoch 23/30\n",
      "66/66 [==============================] - 4s 67ms/step - loss: 0.0418 - accuracy: 0.9885 - val_loss: 0.0874 - val_accuracy: 0.9766\n",
      "Epoch 24/30\n",
      "66/66 [==============================] - 5s 68ms/step - loss: 0.0516 - accuracy: 0.9814 - val_loss: 0.2053 - val_accuracy: 0.9499\n",
      "Epoch 25/30\n",
      "66/66 [==============================] - 5s 71ms/step - loss: 0.0452 - accuracy: 0.9871 - val_loss: 0.1402 - val_accuracy: 0.9644\n",
      "Epoch 26/30\n",
      "66/66 [==============================] - 4s 68ms/step - loss: 0.0342 - accuracy: 0.9900 - val_loss: 0.0983 - val_accuracy: 0.9722\n",
      "Epoch 27/30\n",
      "66/66 [==============================] - 4s 67ms/step - loss: 0.0286 - accuracy: 0.9919 - val_loss: 0.1033 - val_accuracy: 0.9722\n",
      "Epoch 28/30\n",
      "66/66 [==============================] - 4s 67ms/step - loss: 0.0130 - accuracy: 0.9967 - val_loss: 0.1071 - val_accuracy: 0.9811\n",
      "Epoch 29/30\n",
      "66/66 [==============================] - 5s 69ms/step - loss: 0.0110 - accuracy: 0.9976 - val_loss: 0.1087 - val_accuracy: 0.9744\n",
      "Epoch 30/30\n",
      "66/66 [==============================] - 5s 69ms/step - loss: 0.0173 - accuracy: 0.9943 - val_loss: 0.1201 - val_accuracy: 0.9610\n"
     ]
    }
   ],
   "source": [
    "history=model.fit(X_train, y_train, epochs=30, validation_data=(X_test, y_test))"
   ]
  },
  {
   "cell_type": "code",
   "execution_count": 104,
   "id": "dd094496",
   "metadata": {},
   "outputs": [
    {
     "data": {
      "image/png": "[encoded data removed]",
      "text/plain": [
       "<Figure size 640x480 with 1 Axes>"
      ]
     },
     "metadata": {},
     "output_type": "display_data"
    }
   ],
   "source": [
    "plt.plot(history.history['accuracy'])\n",
    "plt.plot(history.history['val_accuracy'])\n",
    "plt.title('model accuracy')\n",
    "plt.ylabel('accuracy')\n",
    "plt.xlabel('epoch')\n",
    "plt.legend(['accuracy', 'val_accuracy'], loc='lower right')\n",
    "plt.show()\n",
    "#model.save('Minst_Lstm.model')"
   ]
  },
  {
   "cell_type": "code",
   "execution_count": 109,
   "id": "0cb57d08",
   "metadata": {},
   "outputs": [],
   "source": [
    "model = models.Sequential()\n",
    "# Use a CNN to process the image data before the LSTM\n",
    "model.add(layers.Conv2D(32, (3, 3), activation='relu', input_shape=(28, 28, 3)))\n",
    "model.add(layers.MaxPooling2D((2, 2)))\n",
    "# Instead of Flatten, reshape the output of the CNN\n",
    "model.add(layers.Reshape((13, 13 * 32)))  # Adjust the shape based on CNN output shape\n",
    "model.add(layers.LSTM(128, activation='tanh', recurrent_activation=newone4, input_shape=(28,28)))\n",
    "model.add(layers.Dense(10, activation='softmax'))\n",
    "opt = tf.keras.optimizers.Adam(learning_rate=0.001)\n",
    "model.compile(loss='sparse_categorical_crossentropy', optimizer=opt,\n",
    "             metrics=['accuracy'])"
   ]
  },
  {
   "cell_type": "code",
   "execution_count": 110,
   "id": "baa7b964",
   "metadata": {},
   "outputs": [
    {
     "name": "stdout",
     "output_type": "stream",
     "text": [
      "Epoch 1/30\n",
      "66/66 [==============================] - 21s 103ms/step - loss: 0.7300 - accuracy: 0.5866 - val_loss: 0.6999 - val_accuracy: 0.5757\n",
      "Epoch 2/30\n",
      "66/66 [==============================] - 5s 82ms/step - loss: 0.5896 - accuracy: 0.6936 - val_loss: 0.5394 - val_accuracy: 0.7004\n",
      "Epoch 3/30\n",
      "66/66 [==============================] - 5s 76ms/step - loss: 0.5458 - accuracy: 0.7308 - val_loss: 0.5168 - val_accuracy: 0.7494\n",
      "Epoch 4/30\n",
      "66/66 [==============================] - 5s 72ms/step - loss: 0.5209 - accuracy: 0.7623 - val_loss: 0.5126 - val_accuracy: 0.7673\n",
      "Epoch 5/30\n",
      "66/66 [==============================] - 4s 67ms/step - loss: 0.5012 - accuracy: 0.7766 - val_loss: 0.4771 - val_accuracy: 0.7695\n",
      "Epoch 6/30\n",
      "66/66 [==============================] - 5s 70ms/step - loss: 0.4744 - accuracy: 0.7952 - val_loss: 0.5306 - val_accuracy: 0.7561\n",
      "Epoch 7/30\n",
      "66/66 [==============================] - 5s 71ms/step - loss: 0.4785 - accuracy: 0.7819 - val_loss: 0.4476 - val_accuracy: 0.7851\n",
      "Epoch 8/30\n",
      "66/66 [==============================] - 5s 70ms/step - loss: 0.4504 - accuracy: 0.7957 - val_loss: 0.4498 - val_accuracy: 0.8096\n",
      "Epoch 9/30\n",
      "66/66 [==============================] - 5s 70ms/step - loss: 0.4261 - accuracy: 0.8196 - val_loss: 0.4265 - val_accuracy: 0.8185\n",
      "Epoch 10/30\n",
      "66/66 [==============================] - 5s 75ms/step - loss: 0.4088 - accuracy: 0.8177 - val_loss: 0.3981 - val_accuracy: 0.8263\n",
      "Epoch 11/30\n",
      "66/66 [==============================] - 5s 70ms/step - loss: 0.3666 - accuracy: 0.8406 - val_loss: 0.3580 - val_accuracy: 0.8463\n",
      "Epoch 12/30\n",
      "66/66 [==============================] - 4s 66ms/step - loss: 0.3209 - accuracy: 0.8635 - val_loss: 0.3747 - val_accuracy: 0.8274\n",
      "Epoch 13/30\n",
      "66/66 [==============================] - 4s 67ms/step - loss: 0.2935 - accuracy: 0.8811 - val_loss: 0.3901 - val_accuracy: 0.8151\n",
      "Epoch 14/30\n",
      "66/66 [==============================] - 5s 70ms/step - loss: 0.2625 - accuracy: 0.8936 - val_loss: 0.3552 - val_accuracy: 0.8641\n",
      "Epoch 15/30\n",
      "66/66 [==============================] - 5s 70ms/step - loss: 0.2178 - accuracy: 0.9174 - val_loss: 0.2470 - val_accuracy: 0.8964\n",
      "Epoch 16/30\n",
      "66/66 [==============================] - 5s 70ms/step - loss: 0.1653 - accuracy: 0.9427 - val_loss: 0.1862 - val_accuracy: 0.9254\n",
      "Epoch 17/30\n",
      "66/66 [==============================] - 5s 69ms/step - loss: 0.1232 - accuracy: 0.9637 - val_loss: 0.1655 - val_accuracy: 0.9454\n",
      "Epoch 18/30\n",
      "66/66 [==============================] - 5s 71ms/step - loss: 0.1116 - accuracy: 0.9609 - val_loss: 0.1816 - val_accuracy: 0.9332\n",
      "Epoch 19/30\n",
      "66/66 [==============================] - 4s 67ms/step - loss: 0.0922 - accuracy: 0.9680 - val_loss: 0.1369 - val_accuracy: 0.9555\n",
      "Epoch 20/30\n",
      "66/66 [==============================] - 5s 73ms/step - loss: 0.0738 - accuracy: 0.9800 - val_loss: 0.1323 - val_accuracy: 0.9610\n",
      "Epoch 21/30\n",
      "66/66 [==============================] - 5s 71ms/step - loss: 0.0518 - accuracy: 0.9833 - val_loss: 0.1295 - val_accuracy: 0.9633\n",
      "Epoch 22/30\n",
      "66/66 [==============================] - 4s 68ms/step - loss: 0.0512 - accuracy: 0.9838 - val_loss: 0.1342 - val_accuracy: 0.9610\n",
      "Epoch 23/30\n",
      "66/66 [==============================] - 5s 70ms/step - loss: 0.0370 - accuracy: 0.9900 - val_loss: 0.1689 - val_accuracy: 0.9610\n",
      "Epoch 24/30\n",
      "66/66 [==============================] - 5s 69ms/step - loss: 0.0760 - accuracy: 0.9737 - val_loss: 0.1474 - val_accuracy: 0.9521\n",
      "Epoch 25/30\n",
      "66/66 [==============================] - 4s 67ms/step - loss: 0.0278 - accuracy: 0.9919 - val_loss: 0.1311 - val_accuracy: 0.9644\n",
      "Epoch 26/30\n",
      "66/66 [==============================] - 5s 69ms/step - loss: 0.0179 - accuracy: 0.9962 - val_loss: 0.1083 - val_accuracy: 0.9744\n",
      "Epoch 27/30\n",
      "66/66 [==============================] - 4s 67ms/step - loss: 0.0082 - accuracy: 0.9990 - val_loss: 0.0985 - val_accuracy: 0.9722\n",
      "Epoch 28/30\n",
      "66/66 [==============================] - 5s 69ms/step - loss: 0.0081 - accuracy: 0.9981 - val_loss: 0.1338 - val_accuracy: 0.9688\n",
      "Epoch 29/30\n",
      "66/66 [==============================] - 4s 67ms/step - loss: 0.0055 - accuracy: 1.0000 - val_loss: 0.0887 - val_accuracy: 0.9744\n",
      "Epoch 30/30\n",
      "66/66 [==============================] - 5s 70ms/step - loss: 0.0032 - accuracy: 1.0000 - val_loss: 0.1041 - val_accuracy: 0.9788\n"
     ]
    }
   ],
   "source": [
    "history=model.fit(X_train, y_train, epochs=30, validation_data=(X_test, y_test))"
   ]
  },
  {
   "cell_type": "code",
   "execution_count": 111,
   "id": "c4c9cabc",
   "metadata": {},
   "outputs": [
    {
     "data": {
      "image/png": "[encoded data removed]",
      "text/plain": [
       "<Figure size 640x480 with 1 Axes>"
      ]
     },
     "metadata": {},
     "output_type": "display_data"
    }
   ],
   "source": [
    "plt.plot(history.history['accuracy'])\n",
    "plt.plot(history.history['val_accuracy'])\n",
    "plt.title('model accuracy')\n",
    "plt.ylabel('accuracy')\n",
    "plt.xlabel('epoch')\n",
    "plt.legend(['accuracy', 'val_accuracy'], loc='lower right')\n",
    "plt.show()"
   ]
  },
  {
   "cell_type": "code",
   "execution_count": null,
   "id": "909715a4",
   "metadata": {},
   "outputs": [],
   "source": []
  }
 ],
 "metadata": {
  "kernelspec": {
   "display_name": "Python 3 (ipykernel)",
   "language": "python",
   "name": "python3"
  },
  "language_info": {
   "codemirror_mode": {
    "name": "ipython",
    "version": 3
   },
   "file_extension": ".py",
   "mimetype": "text/x-python",
   "name": "python",
   "nbconvert_exporter": "python",
   "pygments_lexer": "ipython3",
   "version": "3.9.13"
  }
 },
 "nbformat": 4,
 "nbformat_minor": 5
}
